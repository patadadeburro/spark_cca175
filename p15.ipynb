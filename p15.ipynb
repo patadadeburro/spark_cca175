{"cells":[{"cell_type":"code","source":[""],"metadata":{},"outputs":[],"execution_count":1}],"metadata":{"name":"p15","notebookId":2639499347212582},"nbformat":4,"nbformat_minor":0}
